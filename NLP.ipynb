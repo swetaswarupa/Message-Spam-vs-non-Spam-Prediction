{
 "cells": [
  {
   "cell_type": "markdown",
   "id": "607651b5",
   "metadata": {},
   "source": [
    "The aim of this project is to classify messages into Spam vs non-Spam messages.\n",
    "The dataset has been taken from Kaggle. The data consists of email body and labels for text classification. 1) Message body  2) Labels"
   ]
  },
  {
   "cell_type": "markdown",
   "id": "640cd1b9",
   "metadata": {},
   "source": [
    "### LOADING REQUIRED PACKAGES"
   ]
  },
  {
   "cell_type": "code",
   "execution_count": 1,
   "id": "c5662ec7",
   "metadata": {},
   "outputs": [],
   "source": [
    "#importing the required libraries\n",
    "import pandas as pd\n",
    "import matplotlib.pyplot as plt\n",
    "import numpy as np\n",
    "import seaborn as sns\n",
    "import re\n",
    "import os"
   ]
  },
  {
   "cell_type": "code",
   "execution_count": 2,
   "id": "fcfff27f",
   "metadata": {},
   "outputs": [],
   "source": [
    "#importing the required sklearn libraries\n",
    "import sklearn\n",
    "from sklearn.ensemble import GradientBoostingClassifier\n",
    "from sklearn.naive_bayes import MultinomialNB\n",
    "from sklearn.feature_extraction.text import TfidfTransformer, CountVectorizer\n",
    "from sklearn.linear_model import LogisticRegression\n",
    "from sklearn.ensemble import RandomForestClassifier\n",
    "from sklearn.svm import LinearSVC\n",
    "from sklearn.pipeline import Pipeline"
   ]
  },
  {
   "cell_type": "markdown",
   "id": "4cf24b29",
   "metadata": {},
   "source": [
    "### READING DATA"
   ]
  },
  {
   "cell_type": "code",
   "execution_count": 3,
   "id": "6112cc32",
   "metadata": {},
   "outputs": [
    {
     "data": {
      "text/html": [
       "<div>\n",
       "<style scoped>\n",
       "    .dataframe tbody tr th:only-of-type {\n",
       "        vertical-align: middle;\n",
       "    }\n",
       "\n",
       "    .dataframe tbody tr th {\n",
       "        vertical-align: top;\n",
       "    }\n",
       "\n",
       "    .dataframe thead th {\n",
       "        text-align: right;\n",
       "    }\n",
       "</style>\n",
       "<table border=\"1\" class=\"dataframe\">\n",
       "  <thead>\n",
       "    <tr style=\"text-align: right;\">\n",
       "      <th></th>\n",
       "      <th>S. No.</th>\n",
       "      <th>Message_body</th>\n",
       "      <th>Label</th>\n",
       "    </tr>\n",
       "  </thead>\n",
       "  <tbody>\n",
       "    <tr>\n",
       "      <th>0</th>\n",
       "      <td>1</td>\n",
       "      <td>Rofl. Its true to its name</td>\n",
       "      <td>Non-Spam</td>\n",
       "    </tr>\n",
       "    <tr>\n",
       "      <th>1</th>\n",
       "      <td>2</td>\n",
       "      <td>The guy did some bitching but I acted like i'd...</td>\n",
       "      <td>Non-Spam</td>\n",
       "    </tr>\n",
       "    <tr>\n",
       "      <th>2</th>\n",
       "      <td>3</td>\n",
       "      <td>Pity, * was in mood for that. So...any other s...</td>\n",
       "      <td>Non-Spam</td>\n",
       "    </tr>\n",
       "    <tr>\n",
       "      <th>3</th>\n",
       "      <td>4</td>\n",
       "      <td>Will ü b going to esplanade fr home?</td>\n",
       "      <td>Non-Spam</td>\n",
       "    </tr>\n",
       "    <tr>\n",
       "      <th>4</th>\n",
       "      <td>5</td>\n",
       "      <td>This is the 2nd time we have tried 2 contact u...</td>\n",
       "      <td>Spam</td>\n",
       "    </tr>\n",
       "  </tbody>\n",
       "</table>\n",
       "</div>"
      ],
      "text/plain": [
       "   S. No.                                       Message_body     Label\n",
       "0       1                         Rofl. Its true to its name  Non-Spam\n",
       "1       2  The guy did some bitching but I acted like i'd...  Non-Spam\n",
       "2       3  Pity, * was in mood for that. So...any other s...  Non-Spam\n",
       "3       4               Will ü b going to esplanade fr home?  Non-Spam\n",
       "4       5  This is the 2nd time we have tried 2 contact u...      Spam"
      ]
     },
     "execution_count": 3,
     "metadata": {},
     "output_type": "execute_result"
    }
   ],
   "source": [
    "# Reading files\n",
    "nlp_train = pd.read_csv(\"C:\\\\NLP\\\\SMS_train.csv\", low_memory=False)\n",
    "nlp_test = pd.read_csv(\"C:\\\\NLP\\\\SMS_test.csv\", low_memory=False)\n",
    "nlp_train.head()"
   ]
  },
  {
   "cell_type": "code",
   "execution_count": 4,
   "id": "54ba09d5",
   "metadata": {},
   "outputs": [
    {
     "name": "stdout",
     "output_type": "stream",
     "text": [
      "(957, 3)\n",
      "(125, 3)\n"
     ]
    }
   ],
   "source": [
    "print(nlp_train.shape)\n",
    "print(nlp_test.shape)"
   ]
  },
  {
   "cell_type": "code",
   "execution_count": 5,
   "id": "9d33f4a4",
   "metadata": {},
   "outputs": [
    {
     "data": {
      "text/plain": [
       "S. No.          0\n",
       "Message_body    0\n",
       "Label           0\n",
       "dtype: int64"
      ]
     },
     "execution_count": 5,
     "metadata": {},
     "output_type": "execute_result"
    }
   ],
   "source": [
    "#Checking for null values in train dataset\n",
    "nlp_train.isnull().sum()"
   ]
  },
  {
   "cell_type": "code",
   "execution_count": 6,
   "id": "bbe522d3",
   "metadata": {},
   "outputs": [
    {
     "data": {
      "text/plain": [
       "S. No.          0\n",
       "Message_body    0\n",
       "Label           0\n",
       "dtype: int64"
      ]
     },
     "execution_count": 6,
     "metadata": {},
     "output_type": "execute_result"
    }
   ],
   "source": [
    "#Checking for null values in test dataset\n",
    "nlp_test.isnull().sum()"
   ]
  },
  {
   "cell_type": "code",
   "execution_count": 7,
   "id": "ab24ac2e",
   "metadata": {},
   "outputs": [],
   "source": [
    "#Lets drop Serial number column\n",
    "nlp_train = nlp_train.drop(['S. No.'], axis=1)\n",
    "nlp_test = nlp_test.drop(['S. No.'], axis=1)"
   ]
  },
  {
   "cell_type": "code",
   "execution_count": 8,
   "id": "a98e5101",
   "metadata": {},
   "outputs": [
    {
     "data": {
      "text/plain": [
       "0                           Rofl. Its true to its name\n",
       "1    The guy did some bitching but I acted like i'd...\n",
       "2    Pity, * was in mood for that. So...any other s...\n",
       "3                 Will ü b going to esplanade fr home?\n",
       "4    This is the 2nd time we have tried 2 contact u...\n",
       "5    REMINDER FROM O2: To get 2.50 pounds free call...\n",
       "6                                         Huh y lei...\n",
       "7    Why don't you wait 'til at least wednesday to ...\n",
       "8                                  Ard 6 like dat lor.\n",
       "Name: Message_body, dtype: object"
      ]
     },
     "execution_count": 8,
     "metadata": {},
     "output_type": "execute_result"
    }
   ],
   "source": [
    "nlp_train['Message_body'][:9]"
   ]
  },
  {
   "cell_type": "markdown",
   "id": "99c5765b",
   "metadata": {},
   "source": [
    "### DATA VISUALIZATION"
   ]
  },
  {
   "cell_type": "code",
   "execution_count": 9,
   "id": "6e405859",
   "metadata": {},
   "outputs": [
    {
     "data": {
      "image/png": "[encoded data removed]",
      "text/plain": [
       "<Figure size 720x360 with 1 Axes>"
      ]
     },
     "metadata": {
      "needs_background": "light"
     },
     "output_type": "display_data"
    }
   ],
   "source": [
    "#Visualizing class distribution \n",
    "plt.figure(figsize=(10,5))\n",
    "sns.countplot(x='Label',data = nlp_train)\n",
    "plt.ylabel(\"Number of Message\")\n",
    "plt.xlabel(\"Label\")\n",
    "plt.show()"
   ]
  },
  {
   "cell_type": "code",
   "execution_count": 10,
   "id": "7ec38972",
   "metadata": {},
   "outputs": [
    {
     "data": {
      "image/png": "[encoded data removed]",
      "text/plain": [
       "<Figure size 720x720 with 1 Axes>"
      ]
     },
     "metadata": {
      "needs_background": "light"
     },
     "output_type": "display_data"
    }
   ],
   "source": [
    "#Visualizing Message length by characaters\n",
    "plt.figure(figsize=(10,10))\n",
    "train_sent = nlp_train['Message_body'].str.len()\n",
    "sns.boxplot(x=\"Label\",y=train_sent,data=nlp_train)\n",
    "plt.xlabel(\"Label\")\n",
    "plt.ylabel(\"Message Length by Character\")\n",
    "plt.show()"
   ]
  },
  {
   "cell_type": "code",
   "execution_count": 11,
   "id": "ef3d2010",
   "metadata": {},
   "outputs": [
    {
     "data": {
      "image/png": "[encoded data removed]",
      "text/plain": [
       "<Figure size 720x720 with 1 Axes>"
      ]
     },
     "metadata": {
      "needs_background": "light"
     },
     "output_type": "display_data"
    }
   ],
   "source": [
    "#Visualizing Message length by words\n",
    "plt.figure(figsize=(10,10))\n",
    "train_sent = nlp_train['Message_body'].str.split().map(lambda x : len(x))\n",
    "sns.boxplot(x=\"Label\",y=train_sent,data=nlp_train)\n",
    "plt.xlabel(\"Label\")\n",
    "plt.ylabel(\"Message length by word\")\n",
    "plt.show()\n"
   ]
  },
  {
   "cell_type": "markdown",
   "id": "2285326b",
   "metadata": {},
   "source": [
    "### DATA CLEANING"
   ]
  },
  {
   "cell_type": "code",
   "execution_count": 12,
   "id": "6aa14819",
   "metadata": {},
   "outputs": [],
   "source": [
    "#Removing URLS\n",
    "def url_clean(Message_body):\n",
    "    url = re.compile(r'https?://\\S+|www\\.\\S+')\n",
    "    return url.sub(r'',Message_body)"
   ]
  },
  {
   "cell_type": "code",
   "execution_count": 13,
   "id": "c3f34a2a",
   "metadata": {},
   "outputs": [],
   "source": [
    "#Removing HTML tags\n",
    "def html_clean(Message_body):\n",
    "    html = re.compile(r'<.*?>')\n",
    "    return html.sub(r'',Message_body)"
   ]
  },
  {
   "cell_type": "code",
   "execution_count": 14,
   "id": "30982916",
   "metadata": {},
   "outputs": [],
   "source": [
    "def remove_emoji(Message_body):\n",
    "    emoji_pattern = re.compile(\"[\"\n",
    "                           u\"\\U0001F600-\\U0001F64F\"  # emoticons\n",
    "                           u\"\\U0001F300-\\U0001F5FF\"  # symbols & pictographs\n",
    "                           u\"\\U0001F680-\\U0001F6FF\"  # transport & map symbols\n",
    "                           u\"\\U0001F1E0-\\U0001F1FF\"  # flags (iOS)\n",
    "                           u\"\\U00002702-\\U000027B0\"\n",
    "                           u\"\\U000024C2-\\U0001F251\"\n",
    "                           \"]+\", flags=re.UNICODE)\n",
    "    return emoji_pattern.sub(r'', Message_body)"
   ]
  },
  {
   "cell_type": "code",
   "execution_count": 15,
   "id": "d96625c8",
   "metadata": {},
   "outputs": [],
   "source": [
    "nlp_train['Message_body']= nlp_train['Message_body'].apply(lambda x : url_clean(x))\n",
    "nlp_train['Message_body']= nlp_train['Message_body'].apply(lambda x : html_clean(x))\n",
    "\n",
    "nlp_test['Message_body']= nlp_test['Message_body'].apply(lambda x : url_clean(x))\n",
    "nlp_test['Message_body']= nlp_test['Message_body'].apply(lambda x : html_clean(x))\n",
    "\n",
    "nlp_test['Message_body']= nlp_test['Message_body'].apply(lambda x : remove_emoji(x))\n",
    "nlp_test['Message_body']= nlp_test['Message_body'].apply(lambda x : remove_emoji(x))"
   ]
  },
  {
   "cell_type": "markdown",
   "id": "64ebcd51",
   "metadata": {},
   "source": [
    "### DATA PREPARATION"
   ]
  },
  {
   "cell_type": "code",
   "execution_count": 16,
   "id": "16a554fa",
   "metadata": {},
   "outputs": [],
   "source": [
    "#Extracting the message and label for modelling \n",
    "X_train = nlp_train[\"Message_body\"]\n",
    "y_train = nlp_train[\"Label\"]\n",
    "X_test = nlp_test['Message_body']\n",
    "y_test = nlp_test[\"Label\"]"
   ]
  },
  {
   "cell_type": "markdown",
   "id": "9ff43b66",
   "metadata": {},
   "source": [
    "##### BAG OF WORDS VECTORIZATION "
   ]
  },
  {
   "cell_type": "code",
   "execution_count": 17,
   "id": "6d8e679e",
   "metadata": {},
   "outputs": [
    {
     "name": "stdout",
     "output_type": "stream",
     "text": [
      "Rofl. Its true to its name\n",
      "[[0. 0. 0. ... 0. 0. 0.]]\n"
     ]
    }
   ],
   "source": [
    "from sklearn.feature_extraction.text import CountVectorizer, TfidfVectorizer\n",
    "\n",
    "vectorizer = TfidfVectorizer()\n",
    "train_x_vectors = vectorizer.fit_transform(X_train)\n",
    "\n",
    "test_x_vectors = vectorizer.transform(X_test)\n",
    "\n",
    "print(X_train[0])\n",
    "print(train_x_vectors[0].toarray())"
   ]
  },
  {
   "cell_type": "markdown",
   "id": "07022261",
   "metadata": {},
   "source": [
    "### Classification"
   ]
  },
  {
   "cell_type": "markdown",
   "id": "348ec3cc",
   "metadata": {},
   "source": [
    "##### LINEAR SMV"
   ]
  },
  {
   "cell_type": "code",
   "execution_count": 18,
   "id": "1fe8257c",
   "metadata": {},
   "outputs": [
    {
     "data": {
      "text/plain": [
       "array(['Spam'], dtype=object)"
      ]
     },
     "execution_count": 18,
     "metadata": {},
     "output_type": "execute_result"
    }
   ],
   "source": [
    "#Linear SVM\n",
    "from sklearn import svm\n",
    "\n",
    "clf_svm = svm.SVC(kernel='linear')\n",
    "\n",
    "clf_svm.fit(train_x_vectors, y_train)\n",
    "\n",
    "X_test[0]\n",
    "\n",
    "clf_svm.predict(test_x_vectors[0])"
   ]
  },
  {
   "cell_type": "markdown",
   "id": "164cd097",
   "metadata": {},
   "source": [
    "##### DECISION TREE"
   ]
  },
  {
   "cell_type": "code",
   "execution_count": 19,
   "id": "d7a32cd7",
   "metadata": {},
   "outputs": [
    {
     "data": {
      "text/plain": [
       "array(['Spam'], dtype=object)"
      ]
     },
     "execution_count": 19,
     "metadata": {},
     "output_type": "execute_result"
    }
   ],
   "source": [
    "#Decision Tree\n",
    "from sklearn.tree import DecisionTreeClassifier\n",
    "\n",
    "clf_dec = DecisionTreeClassifier()\n",
    "clf_dec.fit(train_x_vectors, y_train)\n",
    "\n",
    "clf_dec.predict(test_x_vectors[0])"
   ]
  },
  {
   "cell_type": "markdown",
   "id": "778d1be1",
   "metadata": {},
   "source": [
    "##### NAIVE BAYES"
   ]
  },
  {
   "cell_type": "code",
   "execution_count": 20,
   "id": "a3130065",
   "metadata": {},
   "outputs": [
    {
     "data": {
      "text/plain": [
       "array(['Spam'], dtype=object)"
      ]
     },
     "execution_count": 20,
     "metadata": {},
     "output_type": "execute_result"
    }
   ],
   "source": [
    "#Naive Bayes\n",
    "from sklearn.naive_bayes import GaussianNB\n",
    "\n",
    "clf_gnb = DecisionTreeClassifier()\n",
    "clf_gnb.fit(train_x_vectors, y_train)\n",
    "\n",
    "clf_gnb.predict(test_x_vectors[0])"
   ]
  },
  {
   "cell_type": "markdown",
   "id": "48cff99d",
   "metadata": {},
   "source": [
    "##### LOGISTIC REGRESSION "
   ]
  },
  {
   "cell_type": "code",
   "execution_count": 21,
   "id": "6056807b",
   "metadata": {},
   "outputs": [
    {
     "data": {
      "text/plain": [
       "array(['Spam'], dtype=object)"
      ]
     },
     "execution_count": 21,
     "metadata": {},
     "output_type": "execute_result"
    }
   ],
   "source": [
    "#Logistic Regression\n",
    "from sklearn.linear_model import LogisticRegression\n",
    "\n",
    "clf_log = LogisticRegression()\n",
    "clf_log.fit(train_x_vectors, y_train)\n",
    "\n",
    "clf_log.predict(test_x_vectors[0])"
   ]
  },
  {
   "cell_type": "markdown",
   "id": "cbde46fb",
   "metadata": {},
   "source": [
    "### EVALUATION"
   ]
  },
  {
   "cell_type": "code",
   "execution_count": 22,
   "id": "d54d0198",
   "metadata": {},
   "outputs": [
    {
     "name": "stdout",
     "output_type": "stream",
     "text": [
      "0.912\n",
      "0.816\n",
      "0.832\n",
      "0.64\n"
     ]
    }
   ],
   "source": [
    "# Mean Accuracy\n",
    "print(clf_svm.score(test_x_vectors, y_test))\n",
    "print(clf_dec.score(test_x_vectors, y_test))\n",
    "print(clf_gnb.score(test_x_vectors, y_test))\n",
    "print(clf_log.score(test_x_vectors, y_test))"
   ]
  },
  {
   "cell_type": "code",
   "execution_count": 23,
   "id": "d74bb349",
   "metadata": {},
   "outputs": [
    {
     "data": {
      "text/plain": [
       "array([0.89908257, 0.92198582])"
      ]
     },
     "execution_count": 23,
     "metadata": {},
     "output_type": "execute_result"
    }
   ],
   "source": [
    "# F1 Scores\n",
    "from sklearn.metrics import f1_score\n",
    "\n",
    "f1_score(y_test, clf_svm.predict(test_x_vectors), average=None)\n"
   ]
  },
  {
   "cell_type": "code",
   "execution_count": 24,
   "id": "cd28a653",
   "metadata": {},
   "outputs": [
    {
     "data": {
      "text/plain": [
       "array(['Non-Spam', 'Non-Spam', 'Spam', 'Spam'], dtype=object)"
      ]
     },
     "execution_count": 24,
     "metadata": {},
     "output_type": "execute_result"
    }
   ],
   "source": [
    "test_set = ['very fun', \"bad book do not buy\", 'pls reply 2 this text with your valid name', 'for your inclusive text credits']\n",
    "new_test = vectorizer.transform(test_set)\n",
    "\n",
    "clf_svm.predict(new_test)"
   ]
  },
  {
   "cell_type": "markdown",
   "id": "bdbeba55",
   "metadata": {},
   "source": [
    "## TUNING OUR MODEL (with Grid Search)"
   ]
  },
  {
   "cell_type": "code",
   "execution_count": 25,
   "id": "fe257320",
   "metadata": {},
   "outputs": [
    {
     "data": {
      "text/plain": [
       "GridSearchCV(cv=5, estimator=SVC(),\n",
       "             param_grid={'C': (1, 4, 8, 16, 32), 'kernel': ('linear', 'rbf')})"
      ]
     },
     "execution_count": 25,
     "metadata": {},
     "output_type": "execute_result"
    }
   ],
   "source": [
    "from sklearn.model_selection import GridSearchCV\n",
    "\n",
    "parameters = {'kernel': ('linear', 'rbf'), 'C': (1,4,8,16,32)}\n",
    "\n",
    "svc = svm.SVC()\n",
    "clf = GridSearchCV(svc, parameters, cv=5)\n",
    "clf.fit(train_x_vectors, y_train)"
   ]
  },
  {
   "cell_type": "code",
   "execution_count": 26,
   "id": "3abd892c",
   "metadata": {},
   "outputs": [
    {
     "name": "stdout",
     "output_type": "stream",
     "text": [
      "0.92\n"
     ]
    }
   ],
   "source": [
    "print(clf.score(test_x_vectors, y_test))"
   ]
  },
  {
   "cell_type": "markdown",
   "id": "7eefc566",
   "metadata": {},
   "source": [
    "I built 4 different models (linear SMV, Decision Tree, Naive Bayes, Logistic Regression) for predicting spam vs non-spam messages. Mean accuracy and f1 score for linear SMV is the best out of the 4 models. I also tuned the model with grid search to improve the score further."
   ]
  },
  {
   "cell_type": "code",
   "execution_count": null,
   "id": "6cae9c8a",
   "metadata": {},
   "outputs": [],
   "source": []
  }
 ],
 "metadata": {
  "kernelspec": {
   "display_name": "Python 3 (ipykernel)",
   "language": "python",
   "name": "python3"
  },
  "language_info": {
   "codemirror_mode": {
    "name": "ipython",
    "version": 3
   },
   "file_extension": ".py",
   "mimetype": "text/x-python",
   "name": "python",
   "nbconvert_exporter": "python",
   "pygments_lexer": "ipython3",
   "version": "3.9.7"
  }
 },
 "nbformat": 4,
 "nbformat_minor": 5
}
